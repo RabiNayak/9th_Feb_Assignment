{
 "cells": [
  {
   "cell_type": "markdown",
   "id": "d603edb3-369d-4bbc-8e41-f25069d7bc6e",
   "metadata": {},
   "source": [
    "Q1, Create a vehicle class with an init method having instance variables as name_of_vehicle, max_speed\n",
    "and average_of_vehicle."
   ]
  },
  {
   "cell_type": "code",
   "execution_count": 16,
   "id": "d68d438b-31c0-4282-9a67-52523400e48c",
   "metadata": {},
   "outputs": [],
   "source": [
    "class Vehicle:\n",
    "    def __init__(self, name_of_vehicle, max_speed, average_of_vehicle):\n",
    "        self.name_of_vehicle = name_of_vehicle\n",
    "        self.max_speed = max_speed\n",
    "        self.average_of_vehicle = average_of_vehicle\n"
   ]
  },
  {
   "cell_type": "code",
   "execution_count": 2,
   "id": "81e1f1a3-25d4-42b6-b3d9-e7c1941d47a1",
   "metadata": {},
   "outputs": [],
   "source": [
    "my_vehicle=Vehicle(\"Audi\",300,50)"
   ]
  },
  {
   "cell_type": "code",
   "execution_count": 4,
   "id": "10520c05-1415-4b11-ad46-2935dbf24938",
   "metadata": {},
   "outputs": [
    {
     "data": {
      "text/plain": [
       "300"
      ]
     },
     "execution_count": 4,
     "metadata": {},
     "output_type": "execute_result"
    }
   ],
   "source": [
    "my_vehicle.max_speed"
   ]
  },
  {
   "cell_type": "markdown",
   "id": "f3265078-a4c8-4ddf-8829-b6aca9a8085c",
   "metadata": {},
   "source": [
    "Q2, Create a child class car from the vehicle class created in Que 1, which will inherit the vehicle class.\n",
    "Create a method named seating_capacity which takes capacity as an argument and returns the name of\n",
    "the vehicle and its seating capacity."
   ]
  },
  {
   "cell_type": "code",
   "execution_count": 17,
   "id": "50a02927-cc21-4e29-b83c-306e5d7856a4",
   "metadata": {},
   "outputs": [],
   "source": [
    "class Car(Vehicle):\n",
    "    def seating_capacity(self,capacity):\n",
    "        #self.seating_capacity=seating_capacity\n",
    "        return f\"{self.name_of_vehicle} has a seating capacity of {capacity} people.\""
   ]
  },
  {
   "cell_type": "code",
   "execution_count": 19,
   "id": "f8484b44-d8a9-45a2-ba92-b554a44e9c7f",
   "metadata": {},
   "outputs": [
    {
     "data": {
      "text/plain": [
       "'Toyota Camry has a seating capacity of 2 people.'"
      ]
     },
     "execution_count": 19,
     "metadata": {},
     "output_type": "execute_result"
    }
   ],
   "source": [
    "car =Car (\"Toyota Camry\", 200, 30)\n",
    "car.seating_capacity(2)"
   ]
  },
  {
   "cell_type": "markdown",
   "id": "cf115067-91b2-449e-a3fa-cb4091abb8f0",
   "metadata": {},
   "source": [
    "Q3. What is multiple inheritance? Write a python code to demonstrate multiple inheritance."
   ]
  },
  {
   "cell_type": "markdown",
   "id": "d0948f10-e8ec-4c6c-ae52-b48daa207ffd",
   "metadata": {},
   "source": [
    "Multiple inheritance is a feature of some object-oriented computer programming languages in which an object or class can inherit features from more than one parent object or parent class. It is distinct from single inheritance, where an object or class may only inherit from one particular object or class."
   ]
  },
  {
   "cell_type": "code",
   "execution_count": 1,
   "id": "467bb3d7-173e-460f-8524-96111e556690",
   "metadata": {},
   "outputs": [],
   "source": [
    "class father:\n",
    "    def __init__(self,f_name):\n",
    "        self.f_name=f_name\n",
    "        \n",
    "class mother:\n",
    "    def __init__(self,m_name):\n",
    "        self.m_name=m_name\n",
    "    \n",
    "class child(father,mother):\n",
    "    def parent(self):\n",
    "        print(\"father\",self.f_name)\n",
    "        print(\"mother\",self.m_name)"
   ]
  },
  {
   "cell_type": "code",
   "execution_count": 9,
   "id": "2d7cb7a6-b9d9-4e7c-8613-b4f3220d47bd",
   "metadata": {},
   "outputs": [
    {
     "name": "stdout",
     "output_type": "stream",
     "text": [
      "father hari\n",
      "mother sita\n"
     ]
    }
   ],
   "source": [
    "s1=child(\"\")\n",
    "s1.f_name=\"hari\"\n",
    "s1.m_name=\"sita\"\n",
    "s1.parent()"
   ]
  },
  {
   "cell_type": "markdown",
   "id": "717fba21-b0c9-4798-a714-d412ce7fce3f",
   "metadata": {},
   "source": [
    "Q4. What are getter and setter in python? Create a class and create a getter and a setter method in this\n",
    "class."
   ]
  },
  {
   "cell_type": "markdown",
   "id": "79f64e20-e9eb-4e82-a079-14ec40a938ea",
   "metadata": {},
   "source": [
    "In Python ,getters and setters are methods used to control access to class attributes. \n",
    "The getter method retrieves the value of the attribute, while the setter method sets the value of the attribute. \n",
    "This allows for better control of the attribute's values and helps with encapsulation."
   ]
  },
  {
   "cell_type": "code",
   "execution_count": 51,
   "id": "e5348c73-bb8d-45f3-9df6-3f9646ccb087",
   "metadata": {},
   "outputs": [],
   "source": [
    "class Person:\n",
    "    def __init__(self, name):\n",
    "        self.__name = name \n",
    "    def get_name(self):\n",
    "        return self.__name\n",
    "\n",
    "    def set_name(self, name):\n",
    "        self.__name = name"
   ]
  },
  {
   "cell_type": "code",
   "execution_count": 52,
   "id": "10389020-50f8-4e4e-a2a1-4390adf20661",
   "metadata": {},
   "outputs": [],
   "source": [
    "person=Person(\"Rabi\")"
   ]
  },
  {
   "cell_type": "code",
   "execution_count": 53,
   "id": "b2a8f2ec-f066-406b-a0c0-e05d928d767a",
   "metadata": {},
   "outputs": [
    {
     "data": {
      "text/plain": [
       "'Rabi'"
      ]
     },
     "execution_count": 53,
     "metadata": {},
     "output_type": "execute_result"
    }
   ],
   "source": [
    "person.get_name()"
   ]
  },
  {
   "cell_type": "code",
   "execution_count": 54,
   "id": "1e4e8c51-324d-44f0-9487-96a0331eb0a9",
   "metadata": {},
   "outputs": [],
   "source": [
    "person.set_name(\"hari\")"
   ]
  },
  {
   "cell_type": "code",
   "execution_count": 55,
   "id": "6cbb951d-e500-4894-a194-049b4f157783",
   "metadata": {},
   "outputs": [
    {
     "data": {
      "text/plain": [
       "'hari'"
      ]
     },
     "execution_count": 55,
     "metadata": {},
     "output_type": "execute_result"
    }
   ],
   "source": [
    "person.get_name()"
   ]
  },
  {
   "cell_type": "markdown",
   "id": "201cd740-b3d7-4857-8f7e-126de7267719",
   "metadata": {},
   "source": [
    "Q5.What is method overriding in python? Write a python code to demonstrate method overriding."
   ]
  },
  {
   "cell_type": "markdown",
   "id": "13064f12-aa69-485f-bb07-41e51d239a8d",
   "metadata": {},
   "source": [
    "Method overriding in Python is a mechanism that allows a subclass to provide its own implementation of a method that is already defined in its superclass. When a method is overridden in the subclass, the implementation in the superclass is replaced by the implementation in the subclass."
   ]
  },
  {
   "cell_type": "code",
   "execution_count": 59,
   "id": "6fd7cf1a-b8ad-4789-bd5f-8c395786bb16",
   "metadata": {},
   "outputs": [],
   "source": [
    "class Animal():\n",
    "    def make_sound(self):\n",
    "        print(\"the animal make sound\")\n",
    "class Dog(Animal):\n",
    "    def make_sound(self):\n",
    "        print(\"the dog barks\")\n",
    "class Cat(Animal):\n",
    "    def make_sound(self):\n",
    "        print(\"the cat meows\")"
   ]
  },
  {
   "cell_type": "code",
   "execution_count": 60,
   "id": "0b8e315f-e923-49ce-ae84-5c22b9946616",
   "metadata": {},
   "outputs": [],
   "source": [
    "animal=Animal()\n",
    "dog=Dog()\n",
    "cat=Cat()"
   ]
  },
  {
   "cell_type": "code",
   "execution_count": 61,
   "id": "4060e08a-7b7e-4dec-a0fa-9445d3e2b5be",
   "metadata": {},
   "outputs": [
    {
     "name": "stdout",
     "output_type": "stream",
     "text": [
      "the animal make sound\n",
      "the dog barks\n",
      "the cat meows\n"
     ]
    }
   ],
   "source": [
    "animal.make_sound()\n",
    "dog.make_sound()\n",
    "cat.make_sound()"
   ]
  },
  {
   "cell_type": "code",
   "execution_count": null,
   "id": "6bdb16c8-5b10-4060-8fb2-15dd96e73150",
   "metadata": {},
   "outputs": [],
   "source": []
  }
 ],
 "metadata": {
  "kernelspec": {
   "display_name": "Python 3 (ipykernel)",
   "language": "python",
   "name": "python3"
  },
  "language_info": {
   "codemirror_mode": {
    "name": "ipython",
    "version": 3
   },
   "file_extension": ".py",
   "mimetype": "text/x-python",
   "name": "python",
   "nbconvert_exporter": "python",
   "pygments_lexer": "ipython3",
   "version": "3.10.8"
  }
 },
 "nbformat": 4,
 "nbformat_minor": 5
}
